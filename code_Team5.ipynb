{
  "nbformat": 4,
  "nbformat_minor": 0,
  "metadata": {
    "colab": {
      "provenance": []
    },
    "kernelspec": {
      "name": "python3",
      "display_name": "Python 3"
    },
    "language_info": {
      "name": "python"
    }
  },
  "cells": [
    {
      "cell_type": "markdown",
      "source": [
        "##Installation of Gradio"
      ],
      "metadata": {
        "id": "E37SvBlxhFZQ"
      }
    },
    {
      "cell_type": "code",
      "source": [
        "!pip install gradio"
      ],
      "metadata": {
        "id": "02TpvzPKogqn",
        "outputId": "df38bdaa-d673-4ec0-a65a-0068f410bee1",
        "colab": {
          "base_uri": "https://localhost:8080/"
        }
      },
      "execution_count": null,
      "outputs": [
        {
          "output_type": "stream",
          "name": "stdout",
          "text": [
            "Requirement already satisfied: gradio in /usr/local/lib/python3.10/dist-packages (5.6.0)\n",
            "Requirement already satisfied: aiofiles<24.0,>=22.0 in /usr/local/lib/python3.10/dist-packages (from gradio) (23.2.1)\n",
            "Requirement already satisfied: anyio<5.0,>=3.0 in /usr/local/lib/python3.10/dist-packages (from gradio) (3.7.1)\n",
            "Requirement already satisfied: fastapi<1.0,>=0.115.2 in /usr/local/lib/python3.10/dist-packages (from gradio) (0.115.5)\n",
            "Requirement already satisfied: ffmpy in /usr/local/lib/python3.10/dist-packages (from gradio) (0.4.0)\n",
            "Requirement already satisfied: gradio-client==1.4.3 in /usr/local/lib/python3.10/dist-packages (from gradio) (1.4.3)\n",
            "Requirement already satisfied: httpx>=0.24.1 in /usr/local/lib/python3.10/dist-packages (from gradio) (0.27.2)\n",
            "Requirement already satisfied: huggingface-hub>=0.25.1 in /usr/local/lib/python3.10/dist-packages (from gradio) (0.26.2)\n",
            "Requirement already satisfied: jinja2<4.0 in /usr/local/lib/python3.10/dist-packages (from gradio) (3.1.4)\n",
            "Requirement already satisfied: markupsafe~=2.0 in /usr/local/lib/python3.10/dist-packages (from gradio) (2.1.5)\n",
            "Requirement already satisfied: numpy<3.0,>=1.0 in /usr/local/lib/python3.10/dist-packages (from gradio) (1.26.4)\n",
            "Requirement already satisfied: orjson~=3.0 in /usr/local/lib/python3.10/dist-packages (from gradio) (3.10.11)\n",
            "Requirement already satisfied: packaging in /usr/local/lib/python3.10/dist-packages (from gradio) (24.2)\n",
            "Requirement already satisfied: pandas<3.0,>=1.0 in /usr/local/lib/python3.10/dist-packages (from gradio) (2.2.2)\n",
            "Requirement already satisfied: pillow<12.0,>=8.0 in /usr/local/lib/python3.10/dist-packages (from gradio) (11.0.0)\n",
            "Requirement already satisfied: pydantic>=2.0 in /usr/local/lib/python3.10/dist-packages (from gradio) (2.9.2)\n",
            "Requirement already satisfied: pydub in /usr/local/lib/python3.10/dist-packages (from gradio) (0.25.1)\n",
            "Requirement already satisfied: python-multipart==0.0.12 in /usr/local/lib/python3.10/dist-packages (from gradio) (0.0.12)\n",
            "Requirement already satisfied: pyyaml<7.0,>=5.0 in /usr/local/lib/python3.10/dist-packages (from gradio) (6.0.2)\n",
            "Requirement already satisfied: ruff>=0.2.2 in /usr/local/lib/python3.10/dist-packages (from gradio) (0.8.0)\n",
            "Requirement already satisfied: safehttpx<1.0,>=0.1.1 in /usr/local/lib/python3.10/dist-packages (from gradio) (0.1.1)\n",
            "Requirement already satisfied: semantic-version~=2.0 in /usr/local/lib/python3.10/dist-packages (from gradio) (2.10.0)\n",
            "Requirement already satisfied: starlette<1.0,>=0.40.0 in /usr/local/lib/python3.10/dist-packages (from gradio) (0.41.3)\n",
            "Requirement already satisfied: tomlkit==0.12.0 in /usr/local/lib/python3.10/dist-packages (from gradio) (0.12.0)\n",
            "Requirement already satisfied: typer<1.0,>=0.12 in /usr/local/lib/python3.10/dist-packages (from gradio) (0.13.0)\n",
            "Requirement already satisfied: typing-extensions~=4.0 in /usr/local/lib/python3.10/dist-packages (from gradio) (4.12.2)\n",
            "Requirement already satisfied: uvicorn>=0.14.0 in /usr/local/lib/python3.10/dist-packages (from gradio) (0.32.1)\n",
            "Requirement already satisfied: fsspec in /usr/local/lib/python3.10/dist-packages (from gradio-client==1.4.3->gradio) (2024.10.0)\n",
            "Requirement already satisfied: websockets<13.0,>=10.0 in /usr/local/lib/python3.10/dist-packages (from gradio-client==1.4.3->gradio) (12.0)\n",
            "Requirement already satisfied: idna>=2.8 in /usr/local/lib/python3.10/dist-packages (from anyio<5.0,>=3.0->gradio) (3.10)\n",
            "Requirement already satisfied: sniffio>=1.1 in /usr/local/lib/python3.10/dist-packages (from anyio<5.0,>=3.0->gradio) (1.3.1)\n",
            "Requirement already satisfied: exceptiongroup in /usr/local/lib/python3.10/dist-packages (from anyio<5.0,>=3.0->gradio) (1.2.2)\n",
            "Requirement already satisfied: certifi in /usr/local/lib/python3.10/dist-packages (from httpx>=0.24.1->gradio) (2024.8.30)\n",
            "Requirement already satisfied: httpcore==1.* in /usr/local/lib/python3.10/dist-packages (from httpx>=0.24.1->gradio) (1.0.7)\n",
            "Requirement already satisfied: h11<0.15,>=0.13 in /usr/local/lib/python3.10/dist-packages (from httpcore==1.*->httpx>=0.24.1->gradio) (0.14.0)\n",
            "Requirement already satisfied: filelock in /usr/local/lib/python3.10/dist-packages (from huggingface-hub>=0.25.1->gradio) (3.16.1)\n",
            "Requirement already satisfied: requests in /usr/local/lib/python3.10/dist-packages (from huggingface-hub>=0.25.1->gradio) (2.32.3)\n",
            "Requirement already satisfied: tqdm>=4.42.1 in /usr/local/lib/python3.10/dist-packages (from huggingface-hub>=0.25.1->gradio) (4.66.6)\n",
            "Requirement already satisfied: python-dateutil>=2.8.2 in /usr/local/lib/python3.10/dist-packages (from pandas<3.0,>=1.0->gradio) (2.8.2)\n",
            "Requirement already satisfied: pytz>=2020.1 in /usr/local/lib/python3.10/dist-packages (from pandas<3.0,>=1.0->gradio) (2024.2)\n",
            "Requirement already satisfied: tzdata>=2022.7 in /usr/local/lib/python3.10/dist-packages (from pandas<3.0,>=1.0->gradio) (2024.2)\n",
            "Requirement already satisfied: annotated-types>=0.6.0 in /usr/local/lib/python3.10/dist-packages (from pydantic>=2.0->gradio) (0.7.0)\n",
            "Requirement already satisfied: pydantic-core==2.23.4 in /usr/local/lib/python3.10/dist-packages (from pydantic>=2.0->gradio) (2.23.4)\n",
            "Requirement already satisfied: click>=8.0.0 in /usr/local/lib/python3.10/dist-packages (from typer<1.0,>=0.12->gradio) (8.1.7)\n",
            "Requirement already satisfied: shellingham>=1.3.0 in /usr/local/lib/python3.10/dist-packages (from typer<1.0,>=0.12->gradio) (1.5.4)\n",
            "Requirement already satisfied: rich>=10.11.0 in /usr/local/lib/python3.10/dist-packages (from typer<1.0,>=0.12->gradio) (13.9.4)\n",
            "Requirement already satisfied: six>=1.5 in /usr/local/lib/python3.10/dist-packages (from python-dateutil>=2.8.2->pandas<3.0,>=1.0->gradio) (1.16.0)\n",
            "Requirement already satisfied: markdown-it-py>=2.2.0 in /usr/local/lib/python3.10/dist-packages (from rich>=10.11.0->typer<1.0,>=0.12->gradio) (3.0.0)\n",
            "Requirement already satisfied: pygments<3.0.0,>=2.13.0 in /usr/local/lib/python3.10/dist-packages (from rich>=10.11.0->typer<1.0,>=0.12->gradio) (2.18.0)\n",
            "Requirement already satisfied: charset-normalizer<4,>=2 in /usr/local/lib/python3.10/dist-packages (from requests->huggingface-hub>=0.25.1->gradio) (3.4.0)\n",
            "Requirement already satisfied: urllib3<3,>=1.21.1 in /usr/local/lib/python3.10/dist-packages (from requests->huggingface-hub>=0.25.1->gradio) (2.2.3)\n",
            "Requirement already satisfied: mdurl~=0.1 in /usr/local/lib/python3.10/dist-packages (from markdown-it-py>=2.2.0->rich>=10.11.0->typer<1.0,>=0.12->gradio) (0.1.2)\n"
          ]
        }
      ]
    },
    {
      "cell_type": "markdown",
      "source": [
        "## Importing Libraries"
      ],
      "metadata": {
        "id": "Xk6ofaNuhJ5z"
      }
    },
    {
      "cell_type": "code",
      "source": [
        "import requests\n",
        "import base64\n",
        "from moviepy.video.io.VideoFileClip import VideoFileClip\n",
        "from PIL import Image\n",
        "from io import BytesIO\n",
        "import gradio as gr"
      ],
      "metadata": {
        "id": "j5xl3jHHfed9"
      },
      "execution_count": null,
      "outputs": []
    },
    {
      "cell_type": "markdown",
      "source": [
        "## API Configuration"
      ],
      "metadata": {
        "id": "yDvDh1KphRew"
      }
    },
    {
      "cell_type": "code",
      "source": [
        "\n",
        "API_LINK = \"https://ai.api.nvidia.com/v1/vlm/nvidia/neva-22b\"\n",
        "KEY = \"API Key for neva\""
      ],
      "metadata": {
        "id": "s5ffvnU7fp0E"
      },
      "execution_count": null,
      "outputs": []
    },
    {
      "cell_type": "markdown",
      "source": [
        "## Video frames"
      ],
      "metadata": {
        "id": "-DLlnvnjhTyz"
      }
    },
    {
      "cell_type": "code",
      "source": [
        "def get_video_frames(video_path, frames_count=16):\n",
        "    clip = VideoFileClip(video_path)\n",
        "    time_length = clip.duration\n",
        "    frames = [\n",
        "        clip.get_frame(i * time_length / frames_count) for i in range(frames_count)\n",
        "    ]\n",
        "    return [Image.fromarray(frame) for frame in frames]"
      ],
      "metadata": {
        "id": "lwYsAiPNfucN"
      },
      "execution_count": null,
      "outputs": []
    },
    {
      "cell_type": "code",
      "source": [
        "def image_to_base64(image_frame):\n",
        "    temp_buffer = BytesIO()\n",
        "    image_frame.save(temp_buffer, format=\"PNG\")\n",
        "    return base64.b64encode(temp_buffer.getvalue()).decode()"
      ],
      "metadata": {
        "id": "6NhNXcJdfyZm"
      },
      "execution_count": null,
      "outputs": []
    },
    {
      "cell_type": "markdown",
      "source": [
        "##  detecting actions using Neva- 22b"
      ],
      "metadata": {
        "id": "0Fym4dLmhby-"
      }
    },
    {
      "cell_type": "code",
      "source": [
        "def detect_action(image_b64, activity):\n",
        "    headers = {\n",
        "        \"Authorization\": f\"Bearer {KEY}\",\n",
        "        \"Accept\": \"application/json\",\n",
        "    }\n",
        "    info = {\n",
        "        \"messages\": [\n",
        "            {\n",
        "                \"role\": \"user\",\n",
        "                \"content\": f'🤔 Do you see someone performing \"{activity}\" in this image? 🖼️ <img src=\"data:image/png;base64,{image_b64}\" />',\n",
        "            }\n",
        "        ],\n",
        "        \"max_tokens\": 1024,\n",
        "        \"temperature\": 0.20,\n",
        "        \"top_p\": 0.70,\n",
        "        \"seed\": 0,\n",
        "        \"stream\": False,\n",
        "    }\n",
        "    response = requests.post(API_LINK, headers=headers, json=info)\n",
        "    result = response.json()\n",
        "    return \"yes\" in result.get(\"choices\", [{}])[0].get(\"message\", {}).get(\"content\", \"\").lower()"
      ],
      "metadata": {
        "id": "-77gWO4qf3MH"
      },
      "execution_count": null,
      "outputs": []
    },
    {
      "cell_type": "markdown",
      "source": [
        "## Calculating Accuracy"
      ],
      "metadata": {
        "id": "SqvyeXdOhrC0"
      }
    },
    {
      "cell_type": "code",
      "source": [
        "def calculate_accuracy(video_frames, activity):\n",
        "    detections = 0\n",
        "    for image in video_frames:\n",
        "        image_b64 = image_to_base64(image)\n",
        "        if detect_action(image_b64, activity):\n",
        "            detections += 1\n",
        "    return (detections / len(video_frames)) * 100"
      ],
      "metadata": {
        "id": "MpyiTlrvf5gx"
      },
      "execution_count": null,
      "outputs": []
    },
    {
      "cell_type": "markdown",
      "source": [
        "## Prototype Interface Using Gradio"
      ],
      "metadata": {
        "id": "9kx8_34eh7Tm"
      }
    },
    {
      "cell_type": "code",
      "source": [
        "def analyze_videos(video1, video2, activity):\n",
        "    try:\n",
        "        frames_video1 = get_video_frames(video1)\n",
        "        frames_video2 = get_video_frames(video2)\n",
        "\n",
        "        result1 = calculate_accuracy(frames_video1, activity)\n",
        "        result2 = calculate_accuracy(frames_video2, activity)\n",
        "\n",
        "        return (\n",
        "            f\"Video 1 '{activity}' Detection Rate: {result1:.2f}% ✅\",\n",
        "            f\"Video 2 '{activity}' Detection Rate: {result2:.2f}% ✅\",\n",
        "        )\n",
        "    except Exception as error:\n",
        "        return f\"Oops! Something went wrong: {str(error)}\", None\n",
        "\n",
        "app = gr.Interface(\n",
        "    fn=analyze_videos,\n",
        "    inputs=[\n",
        "        gr.Video(label=\"🎥 Upload Synthetic Video\"),\n",
        "        gr.Video(label=\"🎥 Upload Real Video\"),\n",
        "        gr.Textbox(label=\"💡 Specify Action (e.g., running, jumping)\"),\n",
        "    ],\n",
        "    outputs=[\n",
        "        gr.Textbox(label=\"📊 Synthetic Video Analysis\"),\n",
        "        gr.Textbox(label=\"📊 Real Video Analysis\"),\n",
        "    ],\n",
        "    title=\"🎬 Action Detection using NVIDIA NEVA\",\n",
        "    description=\"✨ Upload videos and specify an action to analyze. This tool calculates the success rate for each video.\"\n",
        ")\n",
        "\n",
        "if __name__ == \"__main__\":\n",
        "    app.launch()\n"
      ],
      "metadata": {
        "colab": {
          "base_uri": "https://localhost:8080/",
          "height": 643
        },
        "id": "9o498-LU7oxC",
        "outputId": "ac46b542-3e28-488f-8d67-90ec9ce1a856"
      },
      "execution_count": null,
      "outputs": [
        {
          "output_type": "stream",
          "name": "stdout",
          "text": [
            "Running Gradio in a Colab notebook requires sharing enabled. Automatically setting `share=True` (you can turn this off by setting `share=False` in `launch()` explicitly).\n",
            "\n",
            "Colab notebook detected. To show errors in colab notebook, set debug=True in launch()\n",
            "* Running on public URL: https://0c5d2dfe7933ebdda9.gradio.live\n",
            "\n",
            "This share link expires in 72 hours. For free permanent hosting and GPU upgrades, run `gradio deploy` from the terminal in the working directory to deploy to Hugging Face Spaces (https://huggingface.co/spaces)\n"
          ]
        },
        {
          "output_type": "display_data",
          "data": {
            "text/plain": [
              "<IPython.core.display.HTML object>"
            ],
            "text/html": [
              "<div><iframe src=\"https://0c5d2dfe7933ebdda9.gradio.live\" width=\"100%\" height=\"500\" allow=\"autoplay; camera; microphone; clipboard-read; clipboard-write;\" frameborder=\"0\" allowfullscreen></iframe></div>"
            ]
          },
          "metadata": {}
        }
      ]
    },
    {
      "cell_type": "code",
      "source": [],
      "metadata": {
        "id": "yBVmFONFftNn"
      },
      "execution_count": null,
      "outputs": []
    },
    {
      "cell_type": "code",
      "source": [],
      "metadata": {
        "id": "6jaxc5sS89uo"
      },
      "execution_count": null,
      "outputs": []
    }
  ]
}
